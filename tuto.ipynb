{
 "cells": [
  {
   "cell_type": "code",
   "execution_count": 1,
   "id": "6b183587-9c65-4511-8dc6-203794c6d46b",
   "metadata": {},
   "outputs": [
    {
     "name": "stdout",
     "output_type": "stream",
     "text": [
      "done\n"
     ]
    }
   ],
   "source": [
    "import torch\n",
    "from TTS.api import TTS\n",
    "print(\"done\")"
   ]
  },
  {
   "cell_type": "code",
   "execution_count": 2,
   "id": "9ce10049-cf8d-4a8f-adb8-8c8a9f21f505",
   "metadata": {},
   "outputs": [
    {
     "name": "stdout",
     "output_type": "stream",
     "text": [
      "cuda\n"
     ]
    }
   ],
   "source": [
    "device = \"cuda\" if torch.cuda.is_available() else \"cpu\"\n",
    "print(device)"
   ]
  },
  {
   "cell_type": "code",
   "execution_count": 3,
   "id": "69f9d9d3-a604-4676-aa1e-43df84cf9133",
   "metadata": {},
   "outputs": [
    {
     "name": "stdout",
     "output_type": "stream",
     "text": [
      " > tts_models/multilingual/multi-dataset/xtts_v2 is already downloaded.\n",
      " > Using model: xtts\n"
     ]
    }
   ],
   "source": [
    "tts = TTS(\"tts_models/multilingual/multi-dataset/xtts_v2\").to(device)"
   ]
  },
  {
   "cell_type": "code",
   "execution_count": 5,
   "id": "f4543e04-54b7-4bf8-91d6-9264cfb23d43",
   "metadata": {},
   "outputs": [
    {
     "name": "stdout",
     "output_type": "stream",
     "text": [
      " > Text splitted to sentences.\n",
      "['Bonjour le monde!']\n",
      " > Processing time: 3.353529453277588\n",
      " > Real-time factor: 2.2913152096173404\n",
      "done\n"
     ]
    }
   ],
   "source": [
    "wav = tts.tts(text=\"Bonjour le monde!\", speaker_wav=\"samples/fr_sample.wav\", language=\"fr\")\n",
    "print(\"done\")"
   ]
  },
  {
   "cell_type": "code",
   "execution_count": 6,
   "id": "aa05b5a4-55ab-43dd-bcde-1a6c12b85e93",
   "metadata": {},
   "outputs": [
    {
     "name": "stdout",
     "output_type": "stream",
     "text": [
      " > Text splitted to sentences.\n",
      "[\"C'est rigolo l'ia\"]\n",
      " > Processing time: 1.0511155128479004\n",
      " > Real-time factor: 0.6960925353885212\n",
      "done\n"
     ]
    }
   ],
   "source": [
    "tts.tts_to_file(text=\"C'est rigolo l'ia\", speaker_wav=\"samples/fr_sample.wav\", language=\"fr\", file_path=\"output2.wav\")\n",
    "print(\"done\")"
   ]
  },
  {
   "cell_type": "code",
   "execution_count": 7,
   "id": "48645c85-6f26-4a64-a508-0c2c5295b49e",
   "metadata": {},
   "outputs": [
    {
     "name": "stdout",
     "output_type": "stream",
     "text": [
      " > Text splitted to sentences.\n",
      "['Une expression de joie avait envahit le visage du jeune homme.']\n",
      " > Processing time: 1.8945519924163818\n",
      " > Real-time factor: 0.5954229109575431\n",
      "done\n"
     ]
    }
   ],
   "source": [
    "tts.tts_to_file(text=\"Une expression de joie avait envahit le visage du jeune homme.\", speaker_wav=\"samples/fr_sample.wav\", language=\"fr\", file_path=\"generated_sample.wav\")\n",
    "print(\"done\")"
   ]
  },
  {
   "cell_type": "code",
   "execution_count": 8,
   "id": "b15ae791-b0db-4b3b-b47f-29f96ce40643",
   "metadata": {},
   "outputs": [
    {
     "name": "stdout",
     "output_type": "stream",
     "text": [
      " > Text splitted to sentences.\n",
      "['Hellow world.', 'I am an ia.']\n",
      " > Processing time: 1.7825276851654053\n",
      " > Real-time factor: 0.6113852578692319\n",
      "done\n"
     ]
    }
   ],
   "source": [
    "tts.tts_to_file(text=\"Hellow world. I am an ia and I'll conquier the world.\", speaker_wav=\"samples/en_sample.wav\", language=\"en\", file_path=\"generated_sample_en.wav\")\n",
    "print(\"done\")"
   ]
  }
 ],
 "metadata": {
  "kernelspec": {
   "display_name": "Python 3 (ipykernel)",
   "language": "python",
   "name": "python3"
  },
  "language_info": {
   "codemirror_mode": {
    "name": "ipython",
    "version": 3
   },
   "file_extension": ".py",
   "mimetype": "text/x-python",
   "name": "python",
   "nbconvert_exporter": "python",
   "pygments_lexer": "ipython3",
   "version": "3.11.8"
  }
 },
 "nbformat": 4,
 "nbformat_minor": 5
}
